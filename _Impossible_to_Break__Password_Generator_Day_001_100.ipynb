{
  "nbformat": 4,
  "nbformat_minor": 0,
  "metadata": {
    "colab": {
      "provenance": []
    },
    "kernelspec": {
      "name": "python3",
      "display_name": "Python 3"
    },
    "language_info": {
      "name": "python"
    }
  },
  "cells": [
    {
      "cell_type": "markdown",
      "source": [
        "**Day 001/100 of Python - Password Generator**"
      ],
      "metadata": {
        "id": "liFcrwfFQIg1"
      }
    },
    {
      "cell_type": "code",
      "source": [
        "print('Welcome to the \"Impossible to Break\" Password Generator!')"
      ],
      "metadata": {
        "colab": {
          "base_uri": "https://localhost:8080/"
        },
        "id": "BR93gzqISR0M",
        "outputId": "57b46aff-6c99-48a5-a4d4-d81df3e2be12"
      },
      "execution_count": 17,
      "outputs": [
        {
          "output_type": "stream",
          "name": "stdout",
          "text": [
            "Welcome to the \"Impossible to Break\" Password Generator!\n"
          ]
        }
      ]
    },
    {
      "cell_type": "code",
      "source": [
        "user_name = input(\"May I know your first name, please?\\nType here: \")"
      ],
      "metadata": {
        "colab": {
          "base_uri": "https://localhost:8080/"
        },
        "id": "yc5EJB1lSo7Y",
        "outputId": "c0f1c085-0374-496d-f612-0d375093750c"
      },
      "execution_count": 13,
      "outputs": [
        {
          "name": "stdout",
          "output_type": "stream",
          "text": [
            "May I know your first name, please?\n",
            "Type here: Rachmi\n"
          ]
        }
      ]
    },
    {
      "cell_type": "code",
      "source": [
        "birth_month = input(\"What is your birth month? (e.g. July, August)\\nType here: \")"
      ],
      "metadata": {
        "colab": {
          "base_uri": "https://localhost:8080/"
        },
        "id": "mVaVl7ecSxY_",
        "outputId": "6487b54d-568d-4633-d458-26d16a0c2421"
      },
      "execution_count": 3,
      "outputs": [
        {
          "name": "stdout",
          "output_type": "stream",
          "text": [
            "What is your birth month? (e.g. July, August)\n",
            "Type here: July\n"
          ]
        }
      ]
    },
    {
      "cell_type": "code",
      "source": [
        "fav_animal = input(\"What is your favourite animal? (e.g. Cat, Dog, Rabbit)\\nType here: \")"
      ],
      "metadata": {
        "colab": {
          "base_uri": "https://localhost:8080/"
        },
        "id": "CPSHj9gsTN0_",
        "outputId": "bbe04740-cb57-40c1-ad8a-0ddc487cb6ac"
      },
      "execution_count": 4,
      "outputs": [
        {
          "name": "stdout",
          "output_type": "stream",
          "text": [
            "What is your favourite animal? (e.g. Cat, Dog, Rabbit)\n",
            "Type here: Cat\n"
          ]
        }
      ]
    },
    {
      "cell_type": "code",
      "source": [
        "city = input(\"What city do you live in now? (e.g. Paris, Nice)\\nType here: \")"
      ],
      "metadata": {
        "colab": {
          "base_uri": "https://localhost:8080/"
        },
        "id": "0WzNzE2MTaQO",
        "outputId": "3462083a-f1b8-450a-d867-fdb0b36eea22"
      },
      "execution_count": 5,
      "outputs": [
        {
          "name": "stdout",
          "output_type": "stream",
          "text": [
            "What city do you live in now? (e.g. Paris, Nice)\n",
            "Type here: Palembang\n"
          ]
        }
      ]
    },
    {
      "cell_type": "code",
      "source": [
        "language = input(\"What language do you often speak? (e.g. Japanese, French)\\nType here: \")"
      ],
      "metadata": {
        "colab": {
          "base_uri": "https://localhost:8080/"
        },
        "id": "cg85WHhsTqnM",
        "outputId": "be4af8c4-a8cb-44a1-8e5d-7c833ad3db70"
      },
      "execution_count": 6,
      "outputs": [
        {
          "name": "stdout",
          "output_type": "stream",
          "text": [
            "What language do you often speak? (e.g. Japanese, French)\n",
            "Type here: Indonesian\n"
          ]
        }
      ]
    },
    {
      "cell_type": "code",
      "source": [
        "fav_colour = input(\"What is your favourite colour? (e.g. Red, Blue, Magenta)\\nType here: \")"
      ],
      "metadata": {
        "colab": {
          "base_uri": "https://localhost:8080/"
        },
        "id": "NdrWc0ZzT4yz",
        "outputId": "ddd4871b-8974-4344-c3d6-1a2e4506bf9d"
      },
      "execution_count": 7,
      "outputs": [
        {
          "name": "stdout",
          "output_type": "stream",
          "text": [
            "What is your favourite colour? (e.g. Red, Blue, Magenta)\n",
            "Type here: Green\n"
          ]
        }
      ]
    },
    {
      "cell_type": "code",
      "source": [
        "fav_movie = input(\"What is your favourite movie? (e.g. Deadpool, Toy Story)\\nType here: \")"
      ],
      "metadata": {
        "colab": {
          "base_uri": "https://localhost:8080/"
        },
        "id": "yAb0rlfmT_er",
        "outputId": "741323cb-e56b-4310-9a7a-e4beb7a75a16"
      },
      "execution_count": 8,
      "outputs": [
        {
          "name": "stdout",
          "output_type": "stream",
          "text": [
            "What is your favourite movie? (e.g. Deadpool, Toy Story)\n",
            "Type here: Toy Story\n"
          ]
        }
      ]
    },
    {
      "cell_type": "code",
      "source": [
        "birth_date = input(\"What is your birth date? (e.g. 31, 10)\\nType here: \")"
      ],
      "metadata": {
        "colab": {
          "base_uri": "https://localhost:8080/"
        },
        "id": "UMh_55tRU1lV",
        "outputId": "c85dfa62-53dd-4aaa-d90b-4321725c9f90"
      },
      "execution_count": 9,
      "outputs": [
        {
          "name": "stdout",
          "output_type": "stream",
          "text": [
            "What is your birth date? (e.g. 31, 10)\n",
            "Type here: 31\n"
          ]
        }
      ]
    },
    {
      "cell_type": "code",
      "source": [
        "mom_birth_date = input(\"What is your mom's birth date? (e.g. 31, 10)\\nType here: \")"
      ],
      "metadata": {
        "colab": {
          "base_uri": "https://localhost:8080/"
        },
        "id": "6cjP2I1MU8TD",
        "outputId": "199c235e-34d9-45fd-d931-d2577503b30e"
      },
      "execution_count": 10,
      "outputs": [
        {
          "name": "stdout",
          "output_type": "stream",
          "text": [
            "What is your mom's birth date? (e.g. 31, 10)\n",
            "Type here: 31\n"
          ]
        }
      ]
    },
    {
      "cell_type": "code",
      "source": [
        "fav_num = input(\"What is your favourite number? (e.g. 1, 2)\\nType here: \")"
      ],
      "metadata": {
        "colab": {
          "base_uri": "https://localhost:8080/"
        },
        "id": "Y7MgGxH0VCTL",
        "outputId": "8d0904c3-69b0-4169-93cd-c64ccd3198fe"
      },
      "execution_count": 11,
      "outputs": [
        {
          "name": "stdout",
          "output_type": "stream",
          "text": [
            "What is your favourite number? (e.g. 1, 2)\n",
            "Type here: 7\n"
          ]
        }
      ]
    },
    {
      "cell_type": "code",
      "source": [
        "prog_lang = input(\"What programming language do you use the most? (e.g. Java, Python)\\nType here: \")"
      ],
      "metadata": {
        "colab": {
          "base_uri": "https://localhost:8080/"
        },
        "id": "H1WVKAixVMY7",
        "outputId": "935076cc-fd99-4a92-dbcb-09dfc7e5ee7c"
      },
      "execution_count": 12,
      "outputs": [
        {
          "name": "stdout",
          "output_type": "stream",
          "text": [
            "What programming language do you use the most? (e.g. Java, Python)\n",
            "Type here: Python\n"
          ]
        }
      ]
    },
    {
      "cell_type": "code",
      "source": [
        "username = user_name[-1] + user_name[2]\n",
        "birthmonth = birth_month[0] + birth_month[-1]\n",
        "favanimal = fav_animal[0]\n",
        "citylive = city[0] + city[2]\n",
        "lang = language[0:3]\n",
        "favcolour = fav_colour[0]\n",
        "favmovie = fav_movie[-1] + fav_movie[-3]\n",
        "birthdate = int(birth_date[0]) ** 2\n",
        "mombirthdate = int(mom_birth_date[-1]) * 50\n",
        "favnum = int(fav_num[0]) ** 2\n",
        "proglang = prog_lang[1] + prog_lang[0]\n",
        "\n",
        "result = (username + birthmonth + favanimal + citylive + lang + favcolour + favmovie + str(birthdate) + str(mombirthdate) + str(favnum)).lower() + '_' + proglang.upper()\n",
        "\n",
        "print(result)"
      ],
      "metadata": {
        "colab": {
          "base_uri": "https://localhost:8080/"
        },
        "id": "QeUO9tqEUMcN",
        "outputId": "15ae80c7-a07a-4156-a5c0-cbd54843324e"
      },
      "execution_count": 18,
      "outputs": [
        {
          "output_type": "stream",
          "name": "stdout",
          "text": [
            "icjycplindgyo95049_YP\n"
          ]
        }
      ]
    }
  ]
}