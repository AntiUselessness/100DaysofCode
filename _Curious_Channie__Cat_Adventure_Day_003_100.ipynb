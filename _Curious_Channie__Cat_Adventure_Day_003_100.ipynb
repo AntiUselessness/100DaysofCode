{
  "nbformat": 4,
  "nbformat_minor": 0,
  "metadata": {
    "colab": {
      "provenance": []
    },
    "kernelspec": {
      "name": "python3",
      "display_name": "Python 3"
    },
    "language_info": {
      "name": "python"
    }
  },
  "cells": [
    {
      "cell_type": "code",
      "execution_count": 12,
      "metadata": {
        "colab": {
          "base_uri": "https://localhost:8080/"
        },
        "id": "D62k_wt2hOQ3",
        "outputId": "a6823d6e-2bcb-486a-a308-d40045d53b01"
      },
      "outputs": [
        {
          "output_type": "stream",
          "name": "stdout",
          "text": [
            "Welcome to the 'Curious Channie' Cat Adventure!\n",
            "This is a game where you could control a life of a cat named Channie!\n"
          ]
        }
      ],
      "source": [
        "print(\"Welcome to the 'Curious Channie' Cat Adventure!\\nThis is a game where you could control a life of a cat named Channie!\")"
      ]
    },
    {
      "cell_type": "code",
      "source": [
        "print(\"\"\"Say hello to Channie!\n",
        " ,_     _\n",
        " |\\\\_,-~/\n",
        " / _  _ |    ,--.\n",
        "(  @  @ )   / ,-'\n",
        " \\  _T_/-._( (\n",
        " /         `. \\\n",
        "|         _  \\ |\n",
        " \\ \\ ,  /      |\n",
        "  || |-_\\__   /\n",
        " ((_/`(____,-'\"\"\")"
      ],
      "metadata": {
        "colab": {
          "base_uri": "https://localhost:8080/"
        },
        "id": "CA0soaaxh63d",
        "outputId": "ee16372d-2524-4b51-c68e-fe89f4b40937"
      },
      "execution_count": 13,
      "outputs": [
        {
          "output_type": "stream",
          "name": "stdout",
          "text": [
            "Say hello to Channie!\n",
            " ,_     _\n",
            " |\\_,-~/\n",
            " / _  _ |    ,--.\n",
            "(  @  @ )   / ,-'\n",
            " \\  _T_/-._( (\n",
            " /         `. |         _  \\ |\n",
            " \\ \\ ,  /      |\n",
            "  || |-_\\__   /\n",
            " ((_/`(____,-'\n"
          ]
        }
      ]
    },
    {
      "cell_type": "code",
      "source": [
        "print(\"It's 7 am, Channie wants to go out and find something to eat. Should he go left or right?\")\n",
        "input_1 = input(\"Type L for Left, type R for Right: \").upper()\n",
        "if input_1 == 'L':\n",
        "  print(\"Channie reaches an old abandoned house. Should he come inside?\")\n",
        "  input_2 = input(\"Type Y for Yes, type N for No: \").upper()\n",
        "  if input_2 == 'Y':\n",
        "    print(\"There was an old woman who was eating bread. Should Channie ask for that bread?\")\n",
        "    input_3 = input(\"Type Y for Yes, type N for No: \").upper()\n",
        "    if input_3 == \"Y\":\n",
        "      print(\"It turned out that the old woman is an evil and the bread was poisoned by her, you failed to save Channie.\\nFAILED\\nGAMEOVER\")\n",
        "    elif input_3 == \"N\":\n",
        "      print(\"Channie left the abandoned old house and walked straight into the forest. Should he enter the forest?\")\n",
        "      input_4 = input(\"Type Y for Yes, type N for No: \").upper()\n",
        "      if input_4 == \"Y\":\n",
        "        print(\"Channie goes into the forest and finds her owner hunting there. Channie and the owner finally came home to cook the meat. You managed to save Channie.\\nSUCCESS\\nGAMEOVER\")\n",
        "      elif input_4 == \"N\":\n",
        "        print(\"Channie didn't enter the forest and he realized there was a tiger was standing behind him, ready to pounce. You failed to save Channie.\\nFAILED\\nGAMEOVER\")\n",
        "  elif input_2 == \"N\":\n",
        "    print(\"Channie did not enter the abandoned old house and chose another path. Until it finally rained very heavily, Channie's vision was blurry and he didn't realize that behind him was a very fast car. You failed to save Channie.\\nFAILED\\nGAMEOVER\")\n",
        "elif input_1 == \"R\":\n",
        "  print(\"Channie walked to the right and found a supermarket. Should he come inside?\")\n",
        "  input_5 = input(\"Type Y for Yes, type N for No: \").upper()\n",
        "  if input_5 == \"Y\":\n",
        "    print(\"It turned out that there was a killer in the supermarket. You failed to save Channie.\\nFAILED\\nGAMEOVER\")\n",
        "  elif input_5 == \"N\":\n",
        "    print(\"Channie did not enter the supermarket, but sat in front of it. After an hour, Channie's owner suddenly appeared and called him. Turns out the owner was looking for Channie from an hour ago. Finally, they went home for dinner. You managed to save Channie.\\nSUCCESS\\nGAMEOVER\")"
      ],
      "metadata": {
        "colab": {
          "base_uri": "https://localhost:8080/"
        },
        "id": "NVqwGUUNiKi-",
        "outputId": "bb9ee1fd-7448-46d2-bb53-a41fae1c7f71"
      },
      "execution_count": 19,
      "outputs": [
        {
          "output_type": "stream",
          "name": "stdout",
          "text": [
            "It's 7 am, Channie wants to go out and find something to eat. Should he go left or right?\n",
            "Type L for Left, type R for Right: R\n",
            "Channie walked to the right and found a supermarket. Should he come inside?\n",
            "Type Y for Yes, type N for No: N\n",
            "Channie did not enter the supermarket, but sat in front of it. After an hour, Channie's owner suddenly appeared and called him. Turns out the owner was looking for Channie from an hour ago. Finally, they went home for dinner. You managed to save Channie.\n",
            "SUCCESS\n",
            "GAMEOVER\n"
          ]
        }
      ]
    }
  ]
}