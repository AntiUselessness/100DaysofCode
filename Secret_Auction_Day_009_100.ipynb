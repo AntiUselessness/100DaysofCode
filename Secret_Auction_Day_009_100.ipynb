{
  "nbformat": 4,
  "nbformat_minor": 0,
  "metadata": {
    "colab": {
      "provenance": []
    },
    "kernelspec": {
      "name": "python3",
      "display_name": "Python 3"
    },
    "language_info": {
      "name": "python"
    }
  },
  "cells": [
    {
      "cell_type": "code",
      "execution_count": null,
      "metadata": {
        "id": "Jif0OcZLppo6"
      },
      "outputs": [],
      "source": [
        "logo = '''\n",
        "                         ___________\n",
        "                         \\         /\n",
        "                          )_______(\n",
        "                          |\"\"\"\"\"\"\"|_.-._,.---------.,_.-._\n",
        "                          |       | | |               | | ''-.\n",
        "                          |       |_| |_             _| |_..-'\n",
        "                          |_______| '-' `'---------'` '-'\n",
        "                          )\"\"\"\"\"\"\"(\n",
        "                         /_________\\\\\n",
        "                       .-------------.\n",
        "                      /_______________\\\\\n",
        "'''\n",
        "\n",
        "game_off = False\n",
        "while not game_off:\n",
        "  bid_dict = {}\n",
        "  \n",
        "  print(logo)\n",
        "  \n",
        "  name = input('What is your name: ').capitalize()\n",
        "  bid = input('What is your bid: $')\n",
        "  bid_dict[name] = float(bid)\n",
        "  \n",
        "  another_user = input('Is there anyone else want to bid?\\nType \"y\" for yes, \"n\" for no: ').lower()\n",
        "  \n",
        "  if another_user == 'n':\n",
        "    find_max = max(bid_dict, key=bid_dict.get)\n",
        "    print(f\"The winner with the highest bid is {find_max} with ${bid_dict[find_max]} bid!\")\n",
        "    game_off = True\n"
      ]
    }
  ]
}