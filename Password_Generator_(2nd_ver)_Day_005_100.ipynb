{
  "nbformat": 4,
  "nbformat_minor": 0,
  "metadata": {
    "colab": {
      "provenance": []
    },
    "kernelspec": {
      "name": "python3",
      "display_name": "Python 3"
    },
    "language_info": {
      "name": "python"
    }
  },
  "cells": [
    {
      "cell_type": "code",
      "execution_count": null,
      "metadata": {
        "id": "Jkm-1OnQ8GTg"
      },
      "outputs": [],
      "source": [
        "import random\n",
        "letters = ['a', 'b', 'c', 'd', 'e', 'f', 'g', 'h', 'i', 'j', 'k', 'l', 'm', 'n', 'o', 'p', 'q', 'r', 's', 't', 'u', 'v', 'w', 'x', 'y', 'z', 'A', 'B', 'C', 'D', 'E', 'F', 'G', 'H', 'I', 'J', 'K', 'L', 'M', 'N', 'O', 'P', 'Q', 'R', 'S', 'T', 'U', 'V', 'W', 'X', 'Y', 'Z']\n",
        "numbers = ['0', '1', '2', '3', '4', '5', '6', '7', '8', '9']\n",
        "symbols = ['!', '#', '$', '%', '&', '(', ')', '*', '+']\n",
        "\n",
        "print(\"Welcome to the PyPassword Generator!\")\n",
        "nr_letters= int(input(\"How many letters would you like in your password?\\n\")) \n",
        "nr_symbols = int(input(f\"How many symbols would you like?\\n\"))\n",
        "nr_numbers = int(input(f\"How many numbers would you like?\\n\"))\n",
        "\n",
        "pw_lst = []\n",
        "\n",
        "for x in range(0, nr_letters):\n",
        "  pw_lst.append(random.choice(letters))\n",
        "\n",
        "for x in range(0, nr_symbols):\n",
        "  pw_lst.append(random.choice(symbols))\n",
        "\n",
        "for x in range(0, nr_numbers):\n",
        "  pw_lst.append(random.choice(numbers))\n",
        "\n",
        "random.shuffle(pw_lst)\n",
        "\n",
        "print(f\"Your password is: {''.join(pw_lst)}\")"
      ]
    }
  ]
}