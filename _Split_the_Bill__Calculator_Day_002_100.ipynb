{
  "nbformat": 4,
  "nbformat_minor": 0,
  "metadata": {
    "colab": {
      "provenance": []
    },
    "kernelspec": {
      "name": "python3",
      "display_name": "Python 3"
    },
    "language_info": {
      "name": "python"
    }
  },
  "cells": [
    {
      "cell_type": "code",
      "execution_count": 3,
      "metadata": {
        "colab": {
          "base_uri": "https://localhost:8080/"
        },
        "id": "wpaK6KyzbyLY",
        "outputId": "258b5595-9cb7-4997-e610-a6d3c6c40c1d"
      },
      "outputs": [
        {
          "output_type": "stream",
          "name": "stdout",
          "text": [
            "Welcome to the \"Split the Bill\" Calculator!\n"
          ]
        }
      ],
      "source": [
        "print('Welcome to the \"Split the Bill\" Calculator!')"
      ]
    },
    {
      "cell_type": "code",
      "source": [
        "bill = input(\"Total bill: $\")"
      ],
      "metadata": {
        "colab": {
          "base_uri": "https://localhost:8080/"
        },
        "id": "Sp9zK0P5ebz2",
        "outputId": "abbb3c0c-53c8-4dea-8550-5efa78b0d7cb"
      },
      "execution_count": 7,
      "outputs": [
        {
          "name": "stdout",
          "output_type": "stream",
          "text": [
            "Total bill: $154.32\n"
          ]
        }
      ]
    },
    {
      "cell_type": "code",
      "source": [
        "percentage = input(\"Tip percentage: \")"
      ],
      "metadata": {
        "colab": {
          "base_uri": "https://localhost:8080/"
        },
        "id": "7_tFmMu0efq_",
        "outputId": "42519621-96ed-4415-b55e-195d9cc429b8"
      },
      "execution_count": 8,
      "outputs": [
        {
          "name": "stdout",
          "output_type": "stream",
          "text": [
            "Tip percentage: 5\n"
          ]
        }
      ]
    },
    {
      "cell_type": "code",
      "source": [
        "people = input(\"Total people: \")"
      ],
      "metadata": {
        "colab": {
          "base_uri": "https://localhost:8080/"
        },
        "id": "Y1ipaIDJekpL",
        "outputId": "d072d223-27c8-4b51-8a77-069473042a5c"
      },
      "execution_count": 9,
      "outputs": [
        {
          "name": "stdout",
          "output_type": "stream",
          "text": [
            "Total people: 2\n"
          ]
        }
      ]
    },
    {
      "cell_type": "code",
      "source": [
        "tip = float(bill) * 0.05\n",
        "total = float(bill) + tip\n",
        "should_pay = round(total / int(people), 2)\n",
        "\n",
        "print(f\"Each person should pay: ${should_pay}\")"
      ],
      "metadata": {
        "colab": {
          "base_uri": "https://localhost:8080/"
        },
        "id": "TGFbWNJee4XI",
        "outputId": "ebe2bede-aff1-44e5-e397-a1d0520a38e7"
      },
      "execution_count": 17,
      "outputs": [
        {
          "output_type": "stream",
          "name": "stdout",
          "text": [
            "Each person should pay: $81.02\n"
          ]
        }
      ]
    }
  ]
}