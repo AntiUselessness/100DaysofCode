{
  "nbformat": 4,
  "nbformat_minor": 0,
  "metadata": {
    "colab": {
      "provenance": []
    },
    "kernelspec": {
      "name": "python3",
      "display_name": "Python 3"
    },
    "language_info": {
      "name": "python"
    }
  },
  "cells": [
    {
      "cell_type": "code",
      "execution_count": null,
      "metadata": {
        "id": "Jw-nXfjoyK8Z"
      },
      "outputs": [],
      "source": [
        "rock = '''\n",
        "    _______\n",
        "---'   ____)\n",
        "      (_____)\n",
        "      (_____)\n",
        "      (____)\n",
        "---.__(___)\n",
        "'''\n",
        "\n",
        "paper = '''\n",
        "    _______\n",
        "---'   ____)____\n",
        "          ______)\n",
        "          _______)\n",
        "         _______)\n",
        "---.__________)\n",
        "'''\n",
        "\n",
        "scissors = '''\n",
        "    _______\n",
        "---'   ____)____\n",
        "          ______)\n",
        "       __________)\n",
        "      (____)\n",
        "---.__(___)\n",
        "'''\n",
        "\n",
        "import random\n",
        "\n",
        "while True:\n",
        "  lst = [rock, paper, scissors]\n",
        "\n",
        "  info = print(\"\"\"\n",
        "  0 for Rock\n",
        "  1 for Paper\n",
        "  2 for Scissors\n",
        "  \"\"\")\n",
        "\n",
        "  while True:\n",
        "    try:\n",
        "      user_input = int(input('Out of these options(0,1,2), what will you choose?'))\n",
        "      break\n",
        "    except:\n",
        "      print(\"That's not a valid option!\")\n",
        "\n",
        "  if user_input == 0:\n",
        "    print(lst[0])\n",
        "  elif user_input == 1:\n",
        "    print(lst[1])\n",
        "  elif user_input == 2:\n",
        "    print(lst[2])\n",
        "  else:\n",
        "    print(\"Sorry. You type the wrong number.\")\n",
        "    break\n",
        "\n",
        "  computer_input = random.randint(0,2)\n",
        "\n",
        "  print(f\"Computer choose:\\n{lst[computer_input]}\")\n",
        "\n",
        "  if (user_input == 0 and computer_input == 0) or (user_input == 1 and computer_input == 1) or (user_input == 2 and computer_input == 2):\n",
        "    print(\"DRAW!\")\n",
        "  elif (user_input == 0 and computer_input == 2) or (user_input == 1 and computer_input == 0) or (user_input == 2 and computer_input == 1):\n",
        "    print(\"YOU WIN!\")\n",
        "  else:\n",
        "    print(\"YOU LOSE....\")\n",
        "\n",
        "  play_again = input(\"\\nDo you want to play again?\\nType 'y' for yes, 'n' for no: \")\n",
        "  \n",
        "  if play_again.lower() == 'n':\n",
        "    break"
      ]
    }
  ]
}